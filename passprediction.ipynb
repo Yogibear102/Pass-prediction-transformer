{
 "cells": [
  {
   "cell_type": "code",
   "execution_count": null,
   "id": "6e0b5dc5-6287-41a4-bc86-2d30e74f0bbd",
   "metadata": {},
   "outputs": [],
   "source": [
    "def map_to_grid(x, y, grid_size=10):\n",
    "    \"\"\"Maps field coordinates to a grid square.\"\"\"\n",
    "    grid_x = int(x // grid_size)\n",
    "    grid_y = int(y // grid_size)\n",
    "    return (grid_x, grid_y)\n"
   ]
  },
  {
   "cell_type": "code",
   "execution_count": null,
   "id": "d4bc2ad2-2217-4a4a-a566-b4f70eeffafa",
   "metadata": {},
   "outputs": [],
   "source": [
    "def get_player_grid(player_pos, grid_size=10):\n",
    "    x, y = player_pos\n",
    "    return map_to_grid(x, y, grid_size)\n"
   ]
  },
  {
   "cell_type": "code",
   "execution_count": null,
   "id": "32562567-ec5e-4aa1-938e-2dd8fdcef8f0",
   "metadata": {},
   "outputs": [],
   "source": [
    "class PossessionSpell:\n",
    "    def __init__(self):\n",
    "        self.head = None\n",
    "        self.tail = None\n",
    "\n",
    "    def add_pass(self, passer, receiver, completed, start_grid, end_grid):\n",
    "        node = PassNode(passer, receiver, completed, start_grid, end_grid)\n",
    "        if not self.head:\n",
    "            self.head = self.tail = node\n",
    "        else:\n",
    "            self.tail.next = node\n",
    "            node.prev = self.tail\n",
    "            self.tail = node\n"
   ]
  },
  {
   "cell_type": "code",
   "execution_count": null,
   "id": "5fa4f157-3f13-492e-8ee7-5c9d2dd929fe",
   "metadata": {},
   "outputs": [],
   "source": [
    "def count_completed_passes(self):\n",
    "    current = self.head\n",
    "    count = 0\n",
    "    while current:\n",
    "        if current.completed:\n",
    "            count += 1\n",
    "        current = current.next\n",
    "    return count\n"
   ]
  },
  {
   "cell_type": "code",
   "execution_count": null,
   "id": "e8499bb5-ee1d-4c22-ab50-69da3d0269fd",
   "metadata": {},
   "outputs": [],
   "source": [
    "def encode_player(player_name, player_dict):\n",
    "    return player_dict.get(player_name, 0)  # Example encoder\n"
   ]
  },
  {
   "cell_type": "code",
   "execution_count": null,
   "id": "2382dde7-0507-45c0-ab2d-4b10203c2ffd",
   "metadata": {},
   "outputs": [],
   "source": [
    "def get_pass_sequence(self, player_dict):\n",
    "    sequence = []\n",
    "    current = self.head\n",
    "    while current:\n",
    "        features = [\n",
    "            encode_player(current.passer, player_dict),\n",
    "            encode_player(current.receiver, player_dict),\n",
    "            int(current.completed),\n",
    "            current.start_grid[0], current.start_grid[1],\n",
    "            current.end_grid[0], current.end_grid[1]\n",
    "        ]\n",
    "        sequence.append(features)\n",
    "        current = current.next\n",
    "    return sequence\n"
   ]
  },
  {
   "cell_type": "code",
   "execution_count": null,
   "id": "4e84324a-7dc5-4921-837f-e0fc99faafeb",
   "metadata": {},
   "outputs": [],
   "source": [
    "import torch\n",
    "import torch.nn as nn\n",
    "\n",
    "class PassPredictionTransformer(nn.Module):\n",
    "    def __init__(self, vocab_size, feature_dim=32, num_heads=4, num_layers=2, hidden_dim=128, output_dim=7):\n",
    "        super().__init__()\n",
    "        self.embedding = nn.Embedding(vocab_size, feature_dim)\n",
    "        self.positional_encoding = nn.Parameter(torch.randn(1, 500, feature_dim))\n",
    "        encoder_layer = nn.TransformerEncoderLayer(d_model=feature_dim, nhead=num_heads, dim_feedforward=hidden_dim)\n",
    "        self.transformer = nn.TransformerEncoder(encoder_layer, num_layers=num_layers)\n",
    "        self.output_layer = nn.Linear(feature_dim, output_dim)\n",
    "\n",
    "    def forward(self, x):  # x shape: (batch, seq_len)\n",
    "        x = self.embedding(x) + self.positional_encoding[:, :x.size(1), :]\n",
    "        x = self.transformer(x)\n",
    "        return self.output_layer(x)\n"
   ]
  }
 ],
 "metadata": {
  "kernelspec": {
   "display_name": "Python 3 (ipykernel)",
   "language": "python",
   "name": "python3"
  },
  "language_info": {
   "codemirror_mode": {
    "name": "ipython",
    "version": 3
   },
   "file_extension": ".py",
   "mimetype": "text/x-python",
   "name": "python",
   "nbconvert_exporter": "python",
   "pygments_lexer": "ipython3",
   "version": "3.12.8"
  }
 },
 "nbformat": 4,
 "nbformat_minor": 5
}
